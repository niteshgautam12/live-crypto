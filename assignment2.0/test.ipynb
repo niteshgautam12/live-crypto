{
 "cells": [
  {
   "cell_type": "code",
   "execution_count": null,
   "metadata": {},
   "outputs": [
    {
     "name": "stdout",
     "output_type": "stream",
     "text": [
      "Excel updated.\n",
      "Waiting 5 minutes before next update...\n",
      "Excel updated.\n",
      "Waiting 5 minutes before next update...\n"
     ]
    }
   ],
   "source": [
    "import requests\n",
    "import pandas as pd\n",
    "import time\n",
    "from openpyxl import load_workbook\n",
    "\n",
    "API_URL = \"https://api.coingecko.com/api/v3/coins/markets\"\n",
    "PARAMS = {\n",
    "    \"vs_currency\": \"usd\",\n",
    "    \"order\": \"market_cap_desc\",\n",
    "    \"per_page\": 50,\n",
    "    \"page\": 1,\n",
    "    \"sparkline\": False\n",
    "}\n",
    "\n",
    "EXCEL_FILE = \"crypto_data.xlsx\"\n",
    "\n",
    "def fetch_crypto_data():\n",
    "    response = requests.get(API_URL, params=PARAMS)\n",
    "    if response.status_code == 200:\n",
    "        return response.json()\n",
    "    else:\n",
    "        print(\"Error fetching data:\", response.status_code)\n",
    "        return []\n",
    "\n",
    "def save_to_excel(data):\n",
    "    df = pd.DataFrame(data, columns=[\"name\", \"symbol\", \"current_price\", \"market_cap\", \"total_volume\", \"price_change_percentage_24h\"])\n",
    "    with pd.ExcelWriter(EXCEL_FILE, mode=\"w\", engine=\"openpyxl\") as writer:\n",
    "        df.to_excel(writer, index=False, sheet_name=\"Crypto Prices\")\n",
    "    print(\"Excel updated.\")\n",
    "\n",
    "def main():\n",
    "    try:\n",
    "        while True:\n",
    "            crypto_data = fetch_crypto_data()\n",
    "            if crypto_data:\n",
    "                formatted_data = [{\n",
    "                    \"name\": coin[\"name\"],\n",
    "                    \"symbol\": coin[\"symbol\"],\n",
    "                    \"current_price\": coin[\"current_price\"],\n",
    "                    \"market_cap\": coin[\"market_cap\"],\n",
    "                    \"total_volume\": coin[\"total_volume\"],\n",
    "                    \"price_change_percentage_24h\": coin[\"price_change_percentage_24h\"]\n",
    "                } for coin in crypto_data]\n",
    "                save_to_excel(formatted_data)\n",
    "            \n",
    "            print(\"Waiting 5 minutes before next update...\")\n",
    "            time.sleep(300)  # Wait for 5 minutes before updating again\n",
    "    \n",
    "    except KeyboardInterrupt:\n",
    "        print(\"\\nProcess stopped by user. Exiting safely.\")\n",
    "\n",
    "if __name__ == \"__main__\":\n",
    "    main()\n",
    "\n",
    "\n",
    "if __name__ == \"__main__\":\n",
    "    main()\n"
   ]
  },
  {
   "cell_type": "code",
   "execution_count": 2,
   "metadata": {},
   "outputs": [
    {
     "data": {
      "text/html": [
       "\n",
       "\n",
       "<p><strong>Nitesh Gautam </strong> - Data Analyst & AI/ML Developer </p>\n",
       "<p>📄 <a href='https://drive.google.com/file/d/1kRpk5MG8NpWFStluHYxUXaUXRXgAGF7v/view?usp=sharing' target='_blank'>View My Resume</a></p>\n",
       "<p>🔗 <a href='https://www.linkedin.com/in/nitesh-gautam-03a680236/' target='_blank'>LinkedIn Profile</a></p>\n"
      ],
      "text/plain": [
       "<IPython.core.display.HTML object>"
      ]
     },
     "metadata": {},
     "output_type": "display_data"
    }
   ],
   "source": [
    "from IPython.display import display, HTML\n",
    "\n",
    "resume_link = \"https://drive.google.com/file/d/1kRpk5MG8NpWFStluHYxUXaUXRXgAGF7v/view?usp=sharing\"\n",
    "linkedin_link = \"https://www.linkedin.com/in/nitesh-gautam-03a680236/\"\n",
    "\n",
    "html_code = f\"\"\"\n",
    "\n",
    "<p><strong>Nitesh Gautam </strong> - Data Analyst & AI/ML Developer </p>\n",
    "<p>📄 <a href='{resume_link}' target='_blank'>View My Resume</a></p>\n",
    "<p>🔗 <a href='{linkedin_link}' target='_blank'>LinkedIn Profile</a></p>\n",
    "\"\"\"\n",
    "\n",
    "display(HTML(html_code))"
   ]
  }
 ],
 "metadata": {
  "kernelspec": {
   "display_name": "Python 3",
   "language": "python",
   "name": "python3"
  },
  "language_info": {
   "codemirror_mode": {
    "name": "ipython",
    "version": 3
   },
   "file_extension": ".py",
   "mimetype": "text/x-python",
   "name": "python",
   "nbconvert_exporter": "python",
   "pygments_lexer": "ipython3",
   "version": "3.11.11"
  }
 },
 "nbformat": 4,
 "nbformat_minor": 2
}
